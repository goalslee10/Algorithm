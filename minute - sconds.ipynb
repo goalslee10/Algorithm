{
  "nbformat": 4,
  "nbformat_minor": 0,
  "metadata": {
    "colab": {
      "provenance": [],
      "authorship_tag": "ABX9TyOFRCb3hxUNdE1C5Du86+Q1",
      "include_colab_link": true
    },
    "kernelspec": {
      "name": "python3",
      "display_name": "Python 3"
    },
    "language_info": {
      "name": "python"
    }
  },
  "cells": [
    {
      "cell_type": "markdown",
      "metadata": {
        "id": "view-in-github",
        "colab_type": "text"
      },
      "source": [
        "<a href=\"https://colab.research.google.com/github/goalslee10/Algorithm/blob/main/minute%20-%20sconds.ipynb\" target=\"_parent\"><img src=\"https://colab.research.google.com/assets/colab-badge.svg\" alt=\"Open In Colab\"/></a>"
      ]
    },
    {
      "cell_type": "code",
      "execution_count": 12,
      "metadata": {
        "colab": {
          "base_uri": "https://localhost:8080/"
        },
        "id": "08_9QaddlI_3",
        "outputId": "595a557a-5286-41a8-949f-20c6e063af45"
      },
      "outputs": [
        {
          "output_type": "stream",
          "name": "stdout",
          "text": [
            "5 49\n"
          ]
        }
      ],
      "source": [
        "seconds = 349\n",
        "minute = int(seconds / 60)\n",
        "minute_test= 60 * minute\n",
        "minute_seconds = seconds - minute_test\n",
        "print(minute, minute_seconds)\n",
        "# minute_seconds =  +"
      ]
    }
  ]
}